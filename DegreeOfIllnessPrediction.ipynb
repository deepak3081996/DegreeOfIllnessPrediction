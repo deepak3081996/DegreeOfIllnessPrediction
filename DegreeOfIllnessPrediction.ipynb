{
 "cells": [
  {
   "cell_type": "markdown",
   "metadata": {},
   "source": [
    "# Importing the datasets"
   ]
  },
  {
   "cell_type": "code",
   "execution_count": 1,
   "metadata": {
    "collapsed": true
   },
   "outputs": [],
   "source": [
    "import bs4 as bs\n",
    "import urllib.request\n",
    "import numpy as np\n",
    "import pandas as pd\n",
    "import matplotlib.pyplot as plt"
   ]
  },
  {
   "cell_type": "markdown",
   "metadata": {},
   "source": [
    "# Fetching the data\n",
    "## Reading data from the source url"
   ]
  },
  {
   "cell_type": "code",
   "execution_count": 2,
   "metadata": {
    "collapsed": true
   },
   "outputs": [],
   "source": [
    "source = urllib.request.urlopen(r'https://people.sc.fsu.edu/~jburkardt/datasets/regression/x07.txt').read()\n",
    "\n",
    "soup = bs.BeautifulSoup(source, 'lxml')\n",
    "\n",
    "lines = soup.p.contents[0].split('\\n')"
   ]
  },
  {
   "cell_type": "markdown",
   "metadata": {},
   "source": [
    "# Removing the empty lines from the fetched data"
   ]
  },
  {
   "cell_type": "code",
   "execution_count": 3,
   "metadata": {
    "collapsed": true
   },
   "outputs": [],
   "source": [
    "try:\n",
    "    for line in lines[-1::-1]:\n",
    "        if line == '':\n",
    "            lines.pop()\n",
    "except:\n",
    "    pass"
   ]
  },
  {
   "cell_type": "markdown",
   "metadata": {},
   "source": [
    "# Creating the dataset"
   ]
  },
  {
   "cell_type": "code",
   "execution_count": 7,
   "metadata": {},
   "outputs": [
    {
     "name": "stdout",
     "output_type": "stream",
     "text": [
      "#  x07.txt\n",
      "#\n",
      "#  Reference:\n",
      "#\n",
      "#    D G Kleinbaum and L L Kupper,\n",
      "#    Applied Regression Analysis and Other Multivariable Methods,\n",
      "#    Duxbury Press, 1978, page 148.\n",
      "#\n",
      "#    Helmut Spaeth,\n",
      "#    Mathematical Algorithms for Linear Regression,\n",
      "#    Academic Press, 1991,\n",
      "#    ISBN 0-12-656460-4.\n",
      "#\n",
      "#  Discussion:\n",
      "#\n",
      "#    A psychiatrist assigns values for mental retardation and \n",
      "#    degree of distrust of doctors in 53 newly hospitalized patients.\n",
      "#    Six months later, a value for the degree of illness of each patient\n",
      "#    is assigned.  The question is whether the effect of treatment can\n",
      "#    be related to these indices.  Since the independent and dependent\n",
      "#    variables are essentially subjective, it is assumed that large\n",
      "#    errors are made in all of them.\n",
      "#\n",
      "#    There are 53 rows of data.  The data comprises:\n",
      "#\n",
      "#      I,  the index;\n",
      "#      A1, the degree of mental retardation;\n",
      "#      A2, the degree of distrust of doctors;\n",
      "#      B,  the degree of illness.\n",
      "#\n",
      "#    We seek a model of the form:\n",
      "#\n",
      "#      B = A1 * X1 + A2 * X2\n",
      "#\n"
     ]
    }
   ],
   "source": [
    "l1 = []\n",
    "noOfColumns = 0\n",
    "noOfRows = 0\n",
    "for line in lines:\n",
    "  \n",
    "    if line[0] == '#':    # avoiding all the lines stating with '#' character\n",
    "        print(line)\n",
    "        continue\n",
    "\n",
    "    if line[0] != '#' and (noOfColumns==0 or noOfRows==0):    # fetching the number of rows and columns\n",
    "        datalist = line.split(' ')\n",
    "\n",
    "        if datalist[1] == 'columns':\n",
    "            noOfColumns = int(datalist[0])\n",
    "            col = 0\n",
    "\n",
    "        elif datalist[1] == 'rows':\n",
    "            noOfRows = int(datalist[0])\n",
    "            row = 0\n",
    "\n",
    "    elif line[0] != '#' and noOfColumns>0 and noOfRows>0:    # fetfching all the rows and columns in 1-dimentional array as a list\n",
    "        datalist = line.strip().split()\n",
    "\n",
    "        if col<noOfColumns:\n",
    "            l1.append(' '.join(datalist))\n",
    "            col += 1\n",
    "\n",
    "        elif row<noOfRows:\n",
    "            l1 += datalist\n",
    "            row += 1\n",
    "            \n",
    "dataset = np.array([l1]).reshape((noOfRows+1,noOfColumns))    # Creating the dataset from the of shape(rows, columns) from the 1-D array with the coumns headers\n"
   ]
  },
  {
   "cell_type": "markdown",
   "metadata": {},
   "source": [
    "## Printing the Dataset"
   ]
  },
  {
   "cell_type": "code",
   "execution_count": 8,
   "metadata": {},
   "outputs": [
    {
     "name": "stdout",
     "output_type": "stream",
     "text": [
      "[['Index' 'Retardation Index' 'Distrust Index'\n",
      "  'Degree of Illness after 6 Months']\n",
      " ['1' '2.80' '6.1' '44']\n",
      " ['2' '3.10' '5.1' '25']\n",
      " ['3' '2.59' '6.0' '10']\n",
      " ['4' '3.36' '6.9' '28']\n",
      " ['5' '2.80' '7.0' '25']\n",
      " ['6' '3.35' '5.6' '72']\n",
      " ['7' '2.99' '6.3' '45']\n",
      " ['8' '2.99' '7.2' '25']\n",
      " ['9' '2.92' '6.9' '12']\n",
      " ['10' '3.23' '6.5' '24']\n",
      " ['11' '3.37' '6.8' '46']\n",
      " ['12' '2.72' '6.6' '8']\n",
      " ['13' '3.47' '8.4' '15']\n",
      " ['14' '2.70' '5.9' '28']\n",
      " ['15' '3.24' '6.0' '26']\n",
      " ['16' '2.65' '6.0' '27']\n",
      " ['17' '3.41' '7.6' '4']\n",
      " ['18' '2.58' '6.2' '14']\n",
      " ['19' '2.81' '6.0' '21']\n",
      " ['20' '2.80' '6.4' '22']\n",
      " ['21' '3.62' '6.8' '60']\n",
      " ['22' '2.74' '8.4' '10']\n",
      " ['23' '3.27' '6.7' '60']\n",
      " ['24' '3.78' '8.3' '12']\n",
      " ['25' '2.90' '5.6' '28']\n",
      " ['26' '3.70' '7.3' '39']\n",
      " ['27' '3.40' '7.0' '14']\n",
      " ['28' '2.63' '6.9' '8']\n",
      " ['29' '2.65' '5.8' '11']\n",
      " ['30' '3.26' '7.2' '7']\n",
      " ['31' '3.15' '6.5' '23']\n",
      " ['32' '2.60' '6.3' '16']\n",
      " ['33' '2.74' '6.8' '26']\n",
      " ['34' '2.72' '5.9' '8']\n",
      " ['35' '3.11' '6.8' '11']\n",
      " ['36' '2.79' '6.7' '12']\n",
      " ['37' '2.90' '6.7' '50']\n",
      " ['38' '2.74' '5.5' '9']\n",
      " ['39' '2.70' '6.9' '13']\n",
      " ['40' '3.08' '6.3' '22']\n",
      " ['41' '2.18' '6.1' '23']\n",
      " ['42' '2.88' '5.8' '31']\n",
      " ['43' '3.04' '6.8' '20']\n",
      " ['44' '3.32' '7.3' '66']\n",
      " ['45' '2.80' '5.9' '9']\n",
      " ['46' '3.29' '6.8' '12']\n",
      " ['47' '3.56' '8.8' '21']\n",
      " ['48' '2.74' '7.1' '13']\n",
      " ['49' '3.06' '6.9' '10']\n",
      " ['50' '2.54' '6.7' '4']\n",
      " ['51' '2.78' '7.2' '18']\n",
      " ['52' '2.81' '5.2' '10']\n",
      " ['53' '3.26' '6.6' '7']]\n"
     ]
    }
   ],
   "source": [
    "print(dataset)"
   ]
  },
  {
   "cell_type": "markdown",
   "metadata": {},
   "source": [
    "# Pre-processing of data\n",
    "## creating a pandas dataframe"
   ]
  },
  {
   "cell_type": "code",
   "execution_count": 9,
   "metadata": {
    "collapsed": true
   },
   "outputs": [],
   "source": [
    "df = pd.DataFrame(data=dataset[1:,1:],    # selecting all the rows and columns starting from 1st index location i.e. 2nd row and 2nd column as the data\n",
    "                 index=dataset[1:,0],     # 1st column of the dataset is the index and the rows starting from 1st index location\n",
    "                 columns=dataset[0,1:],   # ist row of the dataset is the column names it's the 0th row of the dataset\n",
    "                 dtype = 'float64')"
   ]
  },
  {
   "cell_type": "markdown",
   "metadata": {},
   "source": [
    "## let's have a look at the dataframe"
   ]
  },
  {
   "cell_type": "code",
   "execution_count": 10,
   "metadata": {},
   "outputs": [
    {
     "name": "stdout",
     "output_type": "stream",
     "text": [
      "    Retardation Index  Distrust Index  Degree of Illness after 6 Months\n",
      "1                2.80             6.1                              44.0\n",
      "2                3.10             5.1                              25.0\n",
      "3                2.59             6.0                              10.0\n",
      "4                3.36             6.9                              28.0\n",
      "5                2.80             7.0                              25.0\n",
      "6                3.35             5.6                              72.0\n",
      "7                2.99             6.3                              45.0\n",
      "8                2.99             7.2                              25.0\n",
      "9                2.92             6.9                              12.0\n",
      "10               3.23             6.5                              24.0\n",
      "11               3.37             6.8                              46.0\n",
      "12               2.72             6.6                               8.0\n",
      "13               3.47             8.4                              15.0\n",
      "14               2.70             5.9                              28.0\n",
      "15               3.24             6.0                              26.0\n",
      "16               2.65             6.0                              27.0\n",
      "17               3.41             7.6                               4.0\n",
      "18               2.58             6.2                              14.0\n",
      "19               2.81             6.0                              21.0\n",
      "20               2.80             6.4                              22.0\n",
      "21               3.62             6.8                              60.0\n",
      "22               2.74             8.4                              10.0\n",
      "23               3.27             6.7                              60.0\n",
      "24               3.78             8.3                              12.0\n",
      "25               2.90             5.6                              28.0\n",
      "26               3.70             7.3                              39.0\n",
      "27               3.40             7.0                              14.0\n",
      "28               2.63             6.9                               8.0\n",
      "29               2.65             5.8                              11.0\n",
      "30               3.26             7.2                               7.0\n",
      "31               3.15             6.5                              23.0\n",
      "32               2.60             6.3                              16.0\n",
      "33               2.74             6.8                              26.0\n",
      "34               2.72             5.9                               8.0\n",
      "35               3.11             6.8                              11.0\n",
      "36               2.79             6.7                              12.0\n",
      "37               2.90             6.7                              50.0\n",
      "38               2.74             5.5                               9.0\n",
      "39               2.70             6.9                              13.0\n",
      "40               3.08             6.3                              22.0\n",
      "41               2.18             6.1                              23.0\n",
      "42               2.88             5.8                              31.0\n",
      "43               3.04             6.8                              20.0\n",
      "44               3.32             7.3                              66.0\n",
      "45               2.80             5.9                               9.0\n",
      "46               3.29             6.8                              12.0\n",
      "47               3.56             8.8                              21.0\n",
      "48               2.74             7.1                              13.0\n",
      "49               3.06             6.9                              10.0\n",
      "50               2.54             6.7                               4.0\n",
      "51               2.78             7.2                              18.0\n",
      "52               2.81             5.2                              10.0\n",
      "53               3.26             6.6                               7.0\n"
     ]
    }
   ],
   "source": [
    "print(df)"
   ]
  },
  {
   "cell_type": "markdown",
   "metadata": {},
   "source": [
    "## fetching the Independent Variables and Dependent Variable"
   ]
  },
  {
   "cell_type": "code",
   "execution_count": 43,
   "metadata": {
    "collapsed": true
   },
   "outputs": [],
   "source": [
    "X = df.iloc[:,:2].values\n",
    "y = df.iloc[:,2:].values"
   ]
  },
  {
   "cell_type": "markdown",
   "metadata": {},
   "source": [
    "# splitting the data into training set and testing set"
   ]
  },
  {
   "cell_type": "code",
   "execution_count": 44,
   "metadata": {
    "collapsed": true
   },
   "outputs": [],
   "source": [
    "from sklearn.model_selection import train_test_split\n",
    "X_train, X_test, y_train, y_test = train_test_split(X, y, test_size=0.2, random_state=42)"
   ]
  },
  {
   "cell_type": "markdown",
   "metadata": {
    "collapsed": true
   },
   "source": [
    "### Since the above data frame contains 2 independent variables therefore the model need to be implemented is multi linear regression\n",
    "#### the equation of mult linear regression is :\n",
    "    y = a0 + a1*x1 + a2*x2 + ..... +an*xn\n",
    "#### the model required in the above the dataset seek to be in the form of:\n",
    "    y = a1*x1 + a2*x2\n",
    "#### thereby multi linear regression model hold the above requirement\n",
    "\n",
    "# Fitting the Multi Linear Regression model to the dataset"
   ]
  },
  {
   "cell_type": "code",
   "execution_count": 45,
   "metadata": {},
   "outputs": [
    {
     "data": {
      "text/plain": [
       "LinearRegression(copy_X=True, fit_intercept=True, n_jobs=1, normalize=False)"
      ]
     },
     "execution_count": 45,
     "metadata": {},
     "output_type": "execute_result"
    }
   ],
   "source": [
    "from  sklearn.linear_model import LinearRegression\n",
    "linear_regressor = LinearRegression()\n",
    "linear_regressor.fit(X_train, y_train)"
   ]
  },
  {
   "cell_type": "code",
   "execution_count": 46,
   "metadata": {
    "collapsed": true
   },
   "outputs": [],
   "source": [
    "y_pred = linear_regressor.predict(X_test)"
   ]
  },
  {
   "cell_type": "code",
   "execution_count": 47,
   "metadata": {},
   "outputs": [
    {
     "name": "stdout",
     "output_type": "stream",
     "text": [
      "[[ 18.19038552]\n",
      " [ 22.6140437 ]\n",
      " [ 13.63250542]\n",
      " [ 20.39068818]\n",
      " [ 23.13354361]\n",
      " [ 32.10922056]\n",
      " [ 15.20233535]\n",
      " [ 13.86011617]\n",
      " [ 25.84142729]\n",
      " [ 15.12066918]\n",
      " [ 18.86149511]]\n"
     ]
    }
   ],
   "source": [
    "print(y_pred)"
   ]
  },
  {
   "cell_type": "code",
   "execution_count": 48,
   "metadata": {},
   "outputs": [
    {
     "name": "stdout",
     "output_type": "stream",
     "text": [
      "[[ 22.]\n",
      " [ 31.]\n",
      " [ 13.]\n",
      " [ 15.]\n",
      " [ 66.]\n",
      " [ 72.]\n",
      " [ 14.]\n",
      " [ 18.]\n",
      " [ 28.]\n",
      " [ 26.]\n",
      " [ 28.]]\n"
     ]
    }
   ],
   "source": [
    "print(y_test)"
   ]
  },
  {
   "cell_type": "code",
   "execution_count": 49,
   "metadata": {},
   "outputs": [
    {
     "name": "stdout",
     "output_type": "stream",
     "text": [
      "0.0723654578601\n",
      "11.6813298019\n",
      "342.565470091\n"
     ]
    }
   ],
   "source": [
    "from sklearn.metrics import r2_score, mean_absolute_error, mean_squared_error, accuracy_score\n",
    "print(r2_score(y_test, y_pred))\n",
    "print(mean_absolute_error(y_test, y_pred))\n",
    "print(mean_squared_error(y_test, y_pred))"
   ]
  },
  {
   "cell_type": "markdown",
   "metadata": {},
   "source": [
    "# Visualising the results\n",
    "## Visualising the training set results"
   ]
  },
  {
   "cell_type": "code",
   "execution_count": 50,
   "metadata": {},
   "outputs": [
    {
     "data": {
      "image/png": "[encoded data removed]",
      "text/plain": [
       "<matplotlib.figure.Figure at 0x14d238a27f0>"
      ]
     },
     "metadata": {},
     "output_type": "display_data"
    }
   ],
   "source": [
    "plt.scatter(X_train[:,1], y_train, color='red')\n",
    "plt.plot(X_train[:,1], linear_regressor.predict(X_train), color='blue')\n",
    "plt.title('{0} vs {1} (training set)'.format(df.columns[1],df.columns[-1]))\n",
    "plt.xlabel('{}'.format(df.columns[1]))\n",
    "plt.ylabel('{}'.format(df.columns[-1]))\n",
    "plt.show()"
   ]
  },
  {
   "cell_type": "markdown",
   "metadata": {},
   "source": [
    "## Visualising the test set results "
   ]
  },
  {
   "cell_type": "code",
   "execution_count": 51,
   "metadata": {},
   "outputs": [
    {
     "data": {
      "image/png": "[encoded data removed]",
      "text/plain": [
       "<matplotlib.figure.Figure at 0x14d2390dd68>"
      ]
     },
     "metadata": {},
     "output_type": "display_data"
    }
   ],
   "source": [
    "plt.scatter(X_test[:,1], y_test, color='red')\n",
    "plt.scatter(X_test[:,1], y_pred, color='blue')\n",
    "plt.plot(X_train[:,1], linear_regressor.predict(X_train), color='blue')\n",
    "plt.title('{0} vs {1} (test set)'.format(df.columns[1],df.columns[-1]))\n",
    "plt.xlabel('{}'.format(df.columns[1]))\n",
    "plt.ylabel('{}'.format(df.columns[-1]))\n",
    "plt.show()"
   ]
  },
  {
   "cell_type": "markdown",
   "metadata": {},
   "source": [
    "#### After looking at the description part of the dataset it was given that\n",
    "#### Since the independent and dependent\n",
    "#### variables are essentially subjective, it is assumed that large\n",
    "#### errors are made in all of them.\n",
    "\n",
    "#### So to achieve this I'll apply the Forward selection method\n",
    "        Forward selection is kind of stepwise regression \n",
    "        their are three types of stewise regression methods, these are:\n",
    "\n",
    "             1. Forward selection\n",
    "             2. Backward Elimination\n",
    "             3. Bidirectional Elimination\n",
    "\n",
    "\n",
    "        Here I'm going to introduce the Forward selection methods, \n",
    "\n",
    "        Forward selection, which involves starting with no variables in the model, testing the addition of each variable using a chosen model fit criterion, adding the variable (if any) whose inclusion gives the most statistically significant improvement of the fit, and repeating this process until none improves the model to a statistically significant extent.\n",
    "        \n",
    "        `source: https://en.wikipedia.org/wiki/Stepwise_regression\n",
    "\n",
    "    Steps include in Forward selection methods are:\n",
    "    \n",
    "    STEP 1 : Select the fit criteria \n",
    "    STEP 2 : fit the model with the lowest fit criteria \n",
    "    STEP 3 : keep this variable and add one more variable to it,\n",
    "    STEP 4 : choose the one with lowest fit critera \n",
    "               if p value < fit critera\n",
    "               then \n",
    "                   got to step3\n",
    "               otherwise\n",
    "                   keep the previous model and the model is done\n",
    "                   "
   ]
  },
  {
   "cell_type": "code",
   "execution_count": 25,
   "metadata": {},
   "outputs": [
    {
     "name": "stderr",
     "output_type": "stream",
     "text": [
      "C:\\Users\\dp\\Anaconda3\\envs\\py35\\lib\\site-packages\\statsmodels\\regression\\linear_model.py:1396: RuntimeWarning: divide by zero encountered in double_scalars\n",
      "  return self.ess/self.df_model\n"
     ]
    },
    {
     "data": {
      "text/html": [
       "<table class=\"simpletable\">\n",
       "<caption>OLS Regression Results</caption>\n",
       "<tr>\n",
       "  <th>Dep. Variable:</th>            <td>y</td>        <th>  R-squared:         </th> <td>  -0.000</td>\n",
       "</tr>\n",
       "<tr>\n",
       "  <th>Model:</th>                   <td>OLS</td>       <th>  Adj. R-squared:    </th> <td>  -0.000</td>\n",
       "</tr>\n",
       "<tr>\n",
       "  <th>Method:</th>             <td>Least Squares</td>  <th>  F-statistic:       </th> <td>    -inf</td>\n",
       "</tr>\n",
       "<tr>\n",
       "  <th>Date:</th>             <td>Tue, 08 Oct 2019</td> <th>  Prob (F-statistic):</th>  <td>   nan</td> \n",
       "</tr>\n",
       "<tr>\n",
       "  <th>Time:</th>                 <td>07:43:04</td>     <th>  Log-Likelihood:    </th> <td> -222.75</td>\n",
       "</tr>\n",
       "<tr>\n",
       "  <th>No. Observations:</th>      <td>    53</td>      <th>  AIC:               </th> <td>   447.5</td>\n",
       "</tr>\n",
       "<tr>\n",
       "  <th>Df Residuals:</th>          <td>    52</td>      <th>  BIC:               </th> <td>   449.5</td>\n",
       "</tr>\n",
       "<tr>\n",
       "  <th>Df Model:</th>              <td>     0</td>      <th>                     </th>     <td> </td>   \n",
       "</tr>\n",
       "<tr>\n",
       "  <th>Covariance Type:</th>      <td>nonrobust</td>    <th>                     </th>     <td> </td>   \n",
       "</tr>\n",
       "</table>\n",
       "<table class=\"simpletable\">\n",
       "<tr>\n",
       "    <td></td>       <th>coef</th>     <th>std err</th>      <th>t</th>      <th>P>|t|</th>  <th>[0.025</th>    <th>0.975]</th>  \n",
       "</tr>\n",
       "<tr>\n",
       "  <th>const</th> <td>   22.7170</td> <td>    2.244</td> <td>   10.124</td> <td> 0.000</td> <td>   18.214</td> <td>   27.220</td>\n",
       "</tr>\n",
       "</table>\n",
       "<table class=\"simpletable\">\n",
       "<tr>\n",
       "  <th>Omnibus:</th>       <td>17.117</td> <th>  Durbin-Watson:     </th> <td>   1.959</td>\n",
       "</tr>\n",
       "<tr>\n",
       "  <th>Prob(Omnibus):</th> <td> 0.000</td> <th>  Jarque-Bera (JB):  </th> <td>  20.052</td>\n",
       "</tr>\n",
       "<tr>\n",
       "  <th>Skew:</th>          <td> 1.370</td> <th>  Prob(JB):          </th> <td>4.42e-05</td>\n",
       "</tr>\n",
       "<tr>\n",
       "  <th>Kurtosis:</th>      <td> 4.255</td> <th>  Cond. No.          </th> <td>    1.00</td>\n",
       "</tr>\n",
       "</table>"
      ],
      "text/plain": [
       "<class 'statsmodels.iolib.summary.Summary'>\n",
       "\"\"\"\n",
       "                            OLS Regression Results                            \n",
       "==============================================================================\n",
       "Dep. Variable:                      y   R-squared:                      -0.000\n",
       "Model:                            OLS   Adj. R-squared:                 -0.000\n",
       "Method:                 Least Squares   F-statistic:                      -inf\n",
       "Date:                Tue, 08 Oct 2019   Prob (F-statistic):                nan\n",
       "Time:                        07:43:04   Log-Likelihood:                -222.75\n",
       "No. Observations:                  53   AIC:                             447.5\n",
       "Df Residuals:                      52   BIC:                             449.5\n",
       "Df Model:                           0                                         \n",
       "Covariance Type:            nonrobust                                         \n",
       "==============================================================================\n",
       "                 coef    std err          t      P>|t|      [0.025      0.975]\n",
       "------------------------------------------------------------------------------\n",
       "const         22.7170      2.244     10.124      0.000      18.214      27.220\n",
       "==============================================================================\n",
       "Omnibus:                       17.117   Durbin-Watson:                   1.959\n",
       "Prob(Omnibus):                  0.000   Jarque-Bera (JB):               20.052\n",
       "Skew:                           1.370   Prob(JB):                     4.42e-05\n",
       "Kurtosis:                       4.255   Cond. No.                         1.00\n",
       "==============================================================================\n",
       "\n",
       "Warnings:\n",
       "[1] Standard Errors assume that the covariance matrix of the errors is correctly specified.\n",
       "\"\"\""
      ]
     },
     "execution_count": 25,
     "metadata": {},
     "output_type": "execute_result"
    }
   ],
   "source": [
    "import statsmodels.formula.api as sm\n",
    "intercept = np.ones((X.shape[0], 1)).astype(int)\n",
    "X = np.append(arr = intercept, values = X, axis = 1)\n",
    "X_opt = X[:, [0]]\n",
    "regressor_OLS = sm.OLS(endog = y, exog = X_opt).fit()\n",
    "regressor_OLS.summary()"
   ]
  },
  {
   "cell_type": "code",
   "execution_count": 30,
   "metadata": {},
   "outputs": [
    {
     "name": "stderr",
     "output_type": "stream",
     "text": [
      "C:\\Users\\dp\\Anaconda3\\envs\\py35\\lib\\site-packages\\statsmodels\\regression\\linear_model.py:1396: RuntimeWarning: divide by zero encountered in double_scalars\n",
      "  return self.ess/self.df_model\n"
     ]
    },
    {
     "data": {
      "text/html": [
       "<table class=\"simpletable\">\n",
       "<caption>OLS Regression Results</caption>\n",
       "<tr>\n",
       "  <th>Dep. Variable:</th>            <td>y</td>        <th>  R-squared:         </th> <td>  -0.000</td>\n",
       "</tr>\n",
       "<tr>\n",
       "  <th>Model:</th>                   <td>OLS</td>       <th>  Adj. R-squared:    </th> <td>  -0.000</td>\n",
       "</tr>\n",
       "<tr>\n",
       "  <th>Method:</th>             <td>Least Squares</td>  <th>  F-statistic:       </th> <td>    -inf</td>\n",
       "</tr>\n",
       "<tr>\n",
       "  <th>Date:</th>             <td>Tue, 08 Oct 2019</td> <th>  Prob (F-statistic):</th>  <td>   nan</td> \n",
       "</tr>\n",
       "<tr>\n",
       "  <th>Time:</th>                 <td>07:47:32</td>     <th>  Log-Likelihood:    </th> <td> -222.75</td>\n",
       "</tr>\n",
       "<tr>\n",
       "  <th>No. Observations:</th>      <td>    53</td>      <th>  AIC:               </th> <td>   447.5</td>\n",
       "</tr>\n",
       "<tr>\n",
       "  <th>Df Residuals:</th>          <td>    52</td>      <th>  BIC:               </th> <td>   449.5</td>\n",
       "</tr>\n",
       "<tr>\n",
       "  <th>Df Model:</th>              <td>     0</td>      <th>                     </th>     <td> </td>   \n",
       "</tr>\n",
       "<tr>\n",
       "  <th>Covariance Type:</th>      <td>nonrobust</td>    <th>                     </th>     <td> </td>   \n",
       "</tr>\n",
       "</table>\n",
       "<table class=\"simpletable\">\n",
       "<tr>\n",
       "    <td></td>       <th>coef</th>     <th>std err</th>      <th>t</th>      <th>P>|t|</th>  <th>[0.025</th>    <th>0.975]</th>  \n",
       "</tr>\n",
       "<tr>\n",
       "  <th>const</th> <td>   22.7170</td> <td>    2.244</td> <td>   10.124</td> <td> 0.000</td> <td>   18.214</td> <td>   27.220</td>\n",
       "</tr>\n",
       "</table>\n",
       "<table class=\"simpletable\">\n",
       "<tr>\n",
       "  <th>Omnibus:</th>       <td>17.117</td> <th>  Durbin-Watson:     </th> <td>   1.959</td>\n",
       "</tr>\n",
       "<tr>\n",
       "  <th>Prob(Omnibus):</th> <td> 0.000</td> <th>  Jarque-Bera (JB):  </th> <td>  20.052</td>\n",
       "</tr>\n",
       "<tr>\n",
       "  <th>Skew:</th>          <td> 1.370</td> <th>  Prob(JB):          </th> <td>4.42e-05</td>\n",
       "</tr>\n",
       "<tr>\n",
       "  <th>Kurtosis:</th>      <td> 4.255</td> <th>  Cond. No.          </th> <td>    1.00</td>\n",
       "</tr>\n",
       "</table>"
      ],
      "text/plain": [
       "<class 'statsmodels.iolib.summary.Summary'>\n",
       "\"\"\"\n",
       "                            OLS Regression Results                            \n",
       "==============================================================================\n",
       "Dep. Variable:                      y   R-squared:                      -0.000\n",
       "Model:                            OLS   Adj. R-squared:                 -0.000\n",
       "Method:                 Least Squares   F-statistic:                      -inf\n",
       "Date:                Tue, 08 Oct 2019   Prob (F-statistic):                nan\n",
       "Time:                        07:47:32   Log-Likelihood:                -222.75\n",
       "No. Observations:                  53   AIC:                             447.5\n",
       "Df Residuals:                      52   BIC:                             449.5\n",
       "Df Model:                           0                                         \n",
       "Covariance Type:            nonrobust                                         \n",
       "==============================================================================\n",
       "                 coef    std err          t      P>|t|      [0.025      0.975]\n",
       "------------------------------------------------------------------------------\n",
       "const         22.7170      2.244     10.124      0.000      18.214      27.220\n",
       "==============================================================================\n",
       "Omnibus:                       17.117   Durbin-Watson:                   1.959\n",
       "Prob(Omnibus):                  0.000   Jarque-Bera (JB):               20.052\n",
       "Skew:                           1.370   Prob(JB):                     4.42e-05\n",
       "Kurtosis:                       4.255   Cond. No.                         1.00\n",
       "==============================================================================\n",
       "\n",
       "Warnings:\n",
       "[1] Standard Errors assume that the covariance matrix of the errors is correctly specified.\n",
       "\"\"\""
      ]
     },
     "execution_count": 30,
     "metadata": {},
     "output_type": "execute_result"
    }
   ],
   "source": [
    "X_opt = X[:, [ 1]]\n",
    "regressor_OLS = sm.OLS(endog = y, exog = X_opt).fit()\n",
    "regressor_OLS.summary()"
   ]
  },
  {
   "cell_type": "code",
   "execution_count": 31,
   "metadata": {},
   "outputs": [
    {
     "data": {
      "text/html": [
       "<table class=\"simpletable\">\n",
       "<caption>OLS Regression Results</caption>\n",
       "<tr>\n",
       "  <th>Dep. Variable:</th>            <td>y</td>        <th>  R-squared:         </th> <td>   0.691</td>\n",
       "</tr>\n",
       "<tr>\n",
       "  <th>Model:</th>                   <td>OLS</td>       <th>  Adj. R-squared:    </th> <td>   0.685</td>\n",
       "</tr>\n",
       "<tr>\n",
       "  <th>Method:</th>             <td>Least Squares</td>  <th>  F-statistic:       </th> <td>   116.1</td>\n",
       "</tr>\n",
       "<tr>\n",
       "  <th>Date:</th>             <td>Tue, 08 Oct 2019</td> <th>  Prob (F-statistic):</th> <td>7.40e-15</td>\n",
       "</tr>\n",
       "<tr>\n",
       "  <th>Time:</th>                 <td>07:47:43</td>     <th>  Log-Likelihood:    </th> <td> -220.51</td>\n",
       "</tr>\n",
       "<tr>\n",
       "  <th>No. Observations:</th>      <td>    53</td>      <th>  AIC:               </th> <td>   443.0</td>\n",
       "</tr>\n",
       "<tr>\n",
       "  <th>Df Residuals:</th>          <td>    52</td>      <th>  BIC:               </th> <td>   445.0</td>\n",
       "</tr>\n",
       "<tr>\n",
       "  <th>Df Model:</th>              <td>     1</td>      <th>                     </th>     <td> </td>   \n",
       "</tr>\n",
       "<tr>\n",
       "  <th>Covariance Type:</th>      <td>nonrobust</td>    <th>                     </th>     <td> </td>   \n",
       "</tr>\n",
       "</table>\n",
       "<table class=\"simpletable\">\n",
       "<tr>\n",
       "   <td></td>     <th>coef</th>     <th>std err</th>      <th>t</th>      <th>P>|t|</th>  <th>[0.025</th>    <th>0.975]</th>  \n",
       "</tr>\n",
       "<tr>\n",
       "  <th>x1</th> <td>    7.6961</td> <td>    0.714</td> <td>   10.776</td> <td> 0.000</td> <td>    6.263</td> <td>    9.129</td>\n",
       "</tr>\n",
       "</table>\n",
       "<table class=\"simpletable\">\n",
       "<tr>\n",
       "  <th>Omnibus:</th>       <td>14.607</td> <th>  Durbin-Watson:     </th> <td>   1.937</td>\n",
       "</tr>\n",
       "<tr>\n",
       "  <th>Prob(Omnibus):</th> <td> 0.001</td> <th>  Jarque-Bera (JB):  </th> <td>  15.986</td>\n",
       "</tr>\n",
       "<tr>\n",
       "  <th>Skew:</th>          <td> 1.247</td> <th>  Prob(JB):          </th> <td>0.000338</td>\n",
       "</tr>\n",
       "<tr>\n",
       "  <th>Kurtosis:</th>      <td> 4.009</td> <th>  Cond. No.          </th> <td>    1.00</td>\n",
       "</tr>\n",
       "</table>"
      ],
      "text/plain": [
       "<class 'statsmodels.iolib.summary.Summary'>\n",
       "\"\"\"\n",
       "                            OLS Regression Results                            \n",
       "==============================================================================\n",
       "Dep. Variable:                      y   R-squared:                       0.691\n",
       "Model:                            OLS   Adj. R-squared:                  0.685\n",
       "Method:                 Least Squares   F-statistic:                     116.1\n",
       "Date:                Tue, 08 Oct 2019   Prob (F-statistic):           7.40e-15\n",
       "Time:                        07:47:43   Log-Likelihood:                -220.51\n",
       "No. Observations:                  53   AIC:                             443.0\n",
       "Df Residuals:                      52   BIC:                             445.0\n",
       "Df Model:                           1                                         \n",
       "Covariance Type:            nonrobust                                         \n",
       "==============================================================================\n",
       "                 coef    std err          t      P>|t|      [0.025      0.975]\n",
       "------------------------------------------------------------------------------\n",
       "x1             7.6961      0.714     10.776      0.000       6.263       9.129\n",
       "==============================================================================\n",
       "Omnibus:                       14.607   Durbin-Watson:                   1.937\n",
       "Prob(Omnibus):                  0.001   Jarque-Bera (JB):               15.986\n",
       "Skew:                           1.247   Prob(JB):                     0.000338\n",
       "Kurtosis:                       4.009   Cond. No.                         1.00\n",
       "==============================================================================\n",
       "\n",
       "Warnings:\n",
       "[1] Standard Errors assume that the covariance matrix of the errors is correctly specified.\n",
       "\"\"\""
      ]
     },
     "execution_count": 31,
     "metadata": {},
     "output_type": "execute_result"
    }
   ],
   "source": [
    "X_opt = X[:, [ 2]]\n",
    "regressor_OLS = sm.OLS(endog = y, exog = X_opt).fit()\n",
    "regressor_OLS.summary()"
   ]
  },
  {
   "cell_type": "markdown",
   "metadata": {},
   "source": [
    "### Since in third case the p-value tends to zero and R-squared value is coloser to 1 so the second feature (independent variable) is the best candidate or variable for the for the training i.e. Distrust Index\n"
   ]
  },
  {
   "cell_type": "code",
   "execution_count": 35,
   "metadata": {},
   "outputs": [
    {
     "data": {
      "text/plain": [
       "LinearRegression(copy_X=True, fit_intercept=True, n_jobs=1, normalize=False)"
      ]
     },
     "execution_count": 35,
     "metadata": {},
     "output_type": "execute_result"
    }
   ],
   "source": [
    "from sklearn.model_selection import train_test_split\n",
    "X_train, X_test, y_train, y_test = train_test_split(X_opt, y, test_size = 0.2, random_state = 42)\n",
    "linear_regressor_2 = LinearRegression()\n",
    "linear_regressor_2.fit(X_train,y_train)"
   ]
  },
  {
   "cell_type": "code",
   "execution_count": 36,
   "metadata": {},
   "outputs": [],
   "source": [
    "y_pred_2 = linear_regressor_2.predict(X_test)"
   ]
  },
  {
   "cell_type": "code",
   "execution_count": 37,
   "metadata": {},
   "outputs": [
    {
     "name": "stdout",
     "output_type": "stream",
     "text": [
      "[[ 18.22335224]\n",
      " [ 19.24136868]\n",
      " [ 17.45983991]\n",
      " [ 26.74923995]\n",
      " [ 24.84045912]\n",
      " [ 25.22221529]\n",
      " [ 15.42380702]\n",
      " [ 17.96884813]\n",
      " [ 25.34946734]\n",
      " [ 17.45983991]\n",
      " [ 16.95083168]]\n"
     ]
    }
   ],
   "source": [
    "print(y_pred_2)"
   ]
  },
  {
   "cell_type": "code",
   "execution_count": 41,
   "metadata": {},
   "outputs": [
    {
     "name": "stdout",
     "output_type": "stream",
     "text": [
      "[[ 22.]\n",
      " [ 31.]\n",
      " [ 13.]\n",
      " [ 15.]\n",
      " [ 66.]\n",
      " [ 72.]\n",
      " [ 14.]\n",
      " [ 18.]\n",
      " [ 28.]\n",
      " [ 26.]\n",
      " [ 28.]]\n"
     ]
    }
   ],
   "source": [
    "print(y_test)"
   ]
  },
  {
   "cell_type": "code",
   "execution_count": 42,
   "metadata": {},
   "outputs": [
    {
     "name": "stdout",
     "output_type": "stream",
     "text": [
      "-0.0823750413612\n",
      "13.034227681\n",
      "399.709473952\n"
     ]
    }
   ],
   "source": [
    "from sklearn.metrics import r2_score, mean_absolute_error, mean_squared_error, accuracy_score\n",
    "print(r2_score(y_test, y_pred_2))\n",
    "print(mean_absolute_error(y_test, y_pred_2))\n",
    "print(mean_squared_error(y_test, y_pred_2))"
   ]
  },
  {
   "cell_type": "markdown",
   "metadata": {},
   "source": [
    "# Visualising the results\n",
    "## Visualising the training set results"
   ]
  },
  {
   "cell_type": "code",
   "execution_count": 39,
   "metadata": {},
   "outputs": [
    {
     "data": {
      "image/png": "[encoded data removed]",
      "text/plain": [
       "<matplotlib.figure.Figure at 0x14d25458f60>"
      ]
     },
     "metadata": {},
     "output_type": "display_data"
    }
   ],
   "source": [
    "plt.scatter(X_train, y_train, color='red')\n",
    "plt.plot(X_train, linear_regressor_2.predict(X_train), color='blue')\n",
    "plt.title('{0} vs {1} (training set)'.format(df.columns[1],df.columns[-1]))\n",
    "plt.xlabel('{}'.format(df.columns[1]))\n",
    "plt.ylabel('{}'.format(df.columns[-1]))\n",
    "plt.show()"
   ]
  },
  {
   "cell_type": "markdown",
   "metadata": {},
   "source": [
    "## Visualising the test set reuslts "
   ]
  },
  {
   "cell_type": "code",
   "execution_count": 40,
   "metadata": {},
   "outputs": [
    {
     "data": {
      "image/png": "[encoded data removed]",
      "text/plain": [
       "<matplotlib.figure.Figure at 0x14d23c527b8>"
      ]
     },
     "metadata": {},
     "output_type": "display_data"
    }
   ],
   "source": [
    "plt.scatter(X_test, y_test, color='red')\n",
    "plt.scatter(X_test, y_pred_2, color='blue')\n",
    "plt.plot(X_train, linear_regressor_2.predict(X_train), color='blue')\n",
    "plt.title('{0} vs {1} (test set)'.format(df.columns[1],df.columns[-1]))\n",
    "plt.xlabel('{}'.format(df.columns[1]))\n",
    "plt.ylabel('{}'.format(df.columns[-1]))\n",
    "plt.show()"
   ]
  },
  {
   "cell_type": "code",
   "execution_count": null,
   "metadata": {
    "collapsed": true
   },
   "outputs": [],
   "source": []
  }
 ],
 "metadata": {
  "kernelspec": {
   "display_name": "Python 3",
   "language": "python",
   "name": "python3"
  },
  "language_info": {
   "codemirror_mode": {
    "name": "ipython",
    "version": 3
   },
   "file_extension": ".py",
   "mimetype": "text/x-python",
   "name": "python",
   "nbconvert_exporter": "python",
   "pygments_lexer": "ipython3",
   "version": "3.5.3"
  }
 },
 "nbformat": 4,
 "nbformat_minor": 2
}
